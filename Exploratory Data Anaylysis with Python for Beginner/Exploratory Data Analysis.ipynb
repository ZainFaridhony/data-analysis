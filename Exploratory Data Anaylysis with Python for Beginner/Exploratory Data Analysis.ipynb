{
 "cells": [
  {
   "cell_type": "markdown",
   "metadata": {},
   "source": [
    "<b><i>Memanggil Library Numpy dan Pandas di Python</i></b>"
   ]
  },
  {
   "cell_type": "code",
   "execution_count": 2,
   "metadata": {},
   "outputs": [],
   "source": [
    "import numpy as np\n",
    "import pandas as pd"
   ]
  },
  {
   "cell_type": "markdown",
   "metadata": {},
   "source": [
    "<b><i>Membaca file dari Excel atau CSV sebagai data frame</i></b>"
   ]
  },
  {
   "cell_type": "code",
   "execution_count": 3,
   "metadata": {},
   "outputs": [],
   "source": [
    "# Membaca file CSV\n",
    "# [nama variabel] = pd.read_csv(\"nama_file.csv\")\n",
    "\n",
    "# Membaca file Excel\n",
    "# [nama variabel] = pd.read_csv(\"nama_file.xlsx\")\n",
    "\n",
    "# Contoh\n",
    "order_df = pd.read_csv(\"order.csv\")"
   ]
  },
  {
   "cell_type": "markdown",
   "metadata": {},
   "source": [
    "<b><i>Melihat Struktur Kolom dan Baris dari Data Frame</i></b>"
   ]
  },
  {
   "cell_type": "code",
   "execution_count": 3,
   "metadata": {},
   "outputs": [
    {
     "name": "stdout",
     "output_type": "stream",
     "text": [
      "(49999, 12)\n"
     ]
    }
   ],
   "source": [
    "# Menggunakan .shape\n",
    "print(order_df.shape)"
   ]
  },
  {
   "cell_type": "markdown",
   "metadata": {},
   "source": [
    "<b><i>Melihat Preview Data dari Data Frame</i></b>"
   ]
  },
  {
   "cell_type": "code",
   "execution_count": 4,
   "metadata": {
    "scrolled": false
   },
   "outputs": [
    {
     "name": "stdout",
     "output_type": "stream",
     "text": [
      "                           order_id  quantity  \\\n",
      "0  2e7a8482f6fb09756ca50c10d7bfc047         2   \n",
      "1  2e7a8482f6fb09756ca50c10d7bfc047         1   \n",
      "2  e5fa5a7210941f7d56d0208e4e071d35         1   \n",
      "3  3b697a20d9e427646d92567910af6d57         1   \n",
      "4  71303d7e93b399f5bcd537d124c0bcfa         1   \n",
      "5  be5bc2f0da14d8071e2d45451ad119d9         1   \n",
      "6  0a0837a5eee9e7a9ce2b1fa831944d27         1   \n",
      "7  1ff217aa612f6cd7c4255c9bfe931c8b         1   \n",
      "8  22613579f7d11cc59c4347526fc3c79e         1   \n",
      "9  356b492aba2d1a7da886e54e0b6212b7         1   \n",
      "\n",
      "                         product_id    price  \\\n",
      "0  f293394c72c9b5fafd7023301fc21fc2  1489000   \n",
      "1  c1488892604e4ba5cff5b4eb4d595400  1756000   \n",
      "2  f3c2d01a84c947b078e32bbef0718962  1707000   \n",
      "3  3ae08df6bcbfe23586dd431c40bddbb7  3071000   \n",
      "4  d2998d7ced12f83f9b832f33cf6507b6  3833000   \n",
      "5  fd7fd78fd3cbc1b0a6370a7909c0a629  1480000   \n",
      "6  583916a5dae918f5e89baec139141c54  4489000   \n",
      "7  33430c5c1027d812b5c62f778e5ee7f7   822000   \n",
      "8  3ff81cd0e0861e991bb0106c03c113ca  3967000   \n",
      "9  eba7488e1c67729f045ab43fac426f2e  4165000   \n",
      "\n",
      "                          seller_id  freight_value  \\\n",
      "0  1554a68530182680ad5c8b042c3ab563          28000   \n",
      "1  1554a68530182680ad5c8b042c3ab563          45000   \n",
      "2  a425f92c199eb576938df686728acd20         174000   \n",
      "3  522620dcb18a6b31cd7bdf73665113a9         154000   \n",
      "4  25e6ffe976bd75618accfe16cefcbd0d         147000   \n",
      "5  f09b760d23495ac9a7e00d29b769007c         152000   \n",
      "6  3481aa57cd91f9f9d3fa1fa12d9a3bf7          16000   \n",
      "7  4b1eaadf791bdbbad8c4a35b65236d52          58000   \n",
      "8  86bb7c4b535e49a541baf3266b1c95b1          95000   \n",
      "9  620c87c171fb2a6dd6e8bb4dec959fc6          98000   \n",
      "\n",
      "                        customer_id order_status purchase_date  \\\n",
      "0  08c5351a6aca1c1589a38f244edeee9d      shipped    2016-09-05   \n",
      "1  08c5351a6aca1c1589a38f244edeee9d      shipped    2016-09-05   \n",
      "2  683c54fc24d40ee9f8a6fc179fd9856c     canceled    2016-09-05   \n",
      "3  355077684019f7f60a031656bd7262b8    delivered    2016-10-03   \n",
      "4  b106b360fe2ef8849fbbd056f777b4d5     canceled    2016-10-03   \n",
      "5  7ec40b22510fdbea1b08921dd39e63d8    delivered    2016-10-03   \n",
      "6  4f3f778022aefa22b9f9e52d2c47edf3    delivered    2016-10-04   \n",
      "7  b3a9bf200375f53cc5c6991919c356fd    delivered    2016-10-04   \n",
      "8  53cc5d344077104b59d4f6836a90eb0b    delivered    2016-10-04   \n",
      "9  68c74d748a55f9d29e6698f4b01a0df7    delivered    2016-10-04   \n",
      "\n",
      "      payment_type product_category_name  product_weight_gram  \n",
      "0  virtual account               fashion               1800.0  \n",
      "1  virtual account            automotive               1400.0  \n",
      "2         e-wallet                  toys                700.0  \n",
      "3         e-wallet             utilities                300.0  \n",
      "4         e-wallet               fashion                500.0  \n",
      "5         e-wallet           electronics                400.0  \n",
      "6       debit card                  toys               3100.0  \n",
      "7      credit card            automotive                200.0  \n",
      "8       debit card                beauty                600.0  \n",
      "9      credit card            automotive                610.0  \n"
     ]
    }
   ],
   "source": [
    "# Menggunakan head dan limit 10\n",
    "print(order_df.head(10))"
   ]
  },
  {
   "cell_type": "markdown",
   "metadata": {},
   "source": [
    "<b><i>Statistik Deskriptif dari Data Frame - Part 1</i></b>"
   ]
  },
  {
   "cell_type": "code",
   "execution_count": 5,
   "metadata": {
    "scrolled": false
   },
   "outputs": [
    {
     "name": "stdout",
     "output_type": "stream",
     "text": [
      "                                order_id      quantity  \\\n",
      "count                              49999  49999.000000   \n",
      "unique                             42694           NaN   \n",
      "top     8272b63d03f5f79c56e9e4120aec44ef           NaN   \n",
      "freq                                  21           NaN   \n",
      "mean                                 NaN      1.197484   \n",
      "std                                  NaN      0.722262   \n",
      "min                                  NaN      1.000000   \n",
      "25%                                  NaN      1.000000   \n",
      "50%                                  NaN      1.000000   \n",
      "75%                                  NaN      1.000000   \n",
      "max                                  NaN     21.000000   \n",
      "\n",
      "                              product_id         price  \\\n",
      "count                              49999  4.999900e+04   \n",
      "unique                             16866           NaN   \n",
      "top     99a4788cb24856965c36a24e339b6058           NaN   \n",
      "freq                                 366           NaN   \n",
      "mean                                 NaN  2.607784e+06   \n",
      "std                                  NaN  1.388312e+06   \n",
      "min                                  NaN  2.000000e+05   \n",
      "25%                                  NaN  1.410500e+06   \n",
      "50%                                  NaN  2.610000e+06   \n",
      "75%                                  NaN  3.810000e+06   \n",
      "max                                  NaN  5.000000e+06   \n",
      "\n",
      "                               seller_id  freight_value  \\\n",
      "count                              49999   49999.000000   \n",
      "unique                              1777            NaN   \n",
      "top     4a3ca9315b744ce9f8e9374361493884            NaN   \n",
      "freq                                1236            NaN   \n",
      "mean                                 NaN  104521.390428   \n",
      "std                                  NaN   55179.844962   \n",
      "min                                  NaN    9000.000000   \n",
      "25%                                  NaN   57000.000000   \n",
      "50%                                  NaN  104000.000000   \n",
      "75%                                  NaN  152000.000000   \n",
      "max                                  NaN  200000.000000   \n",
      "\n",
      "                             customer_id order_status purchase_date  \\\n",
      "count                              49999        49999         49999   \n",
      "unique                             42694            7           356   \n",
      "top     fc3d1daec319d62d49bfb5e1f83123e9    delivered    2017-11-24   \n",
      "freq                                  21        48664          1015   \n",
      "mean                                 NaN          NaN           NaN   \n",
      "std                                  NaN          NaN           NaN   \n",
      "min                                  NaN          NaN           NaN   \n",
      "25%                                  NaN          NaN           NaN   \n",
      "50%                                  NaN          NaN           NaN   \n",
      "75%                                  NaN          NaN           NaN   \n",
      "max                                  NaN          NaN           NaN   \n",
      "\n",
      "           payment_type product_category_name  product_weight_gram  \n",
      "count             49999                 49999         49980.000000  \n",
      "unique                4                     8                  NaN  \n",
      "top     virtual account                  toys                  NaN  \n",
      "freq              12581                  6375                  NaN  \n",
      "mean                NaN                   NaN          2201.830892  \n",
      "std                 NaN                   NaN          3929.896875  \n",
      "min                 NaN                   NaN            50.000000  \n",
      "25%                 NaN                   NaN           300.000000  \n",
      "50%                 NaN                   NaN           800.000000  \n",
      "75%                 NaN                   NaN          1850.000000  \n",
      "max                 NaN                   NaN         40425.000000  \n"
     ]
    }
   ],
   "source": [
    "print(order_df.describe(include=\"all\"))"
   ]
  },
  {
   "cell_type": "markdown",
   "metadata": {},
   "source": [
    "<b><i>Statistik Deskriptif dari Data Frame - Part 2</i></b>"
   ]
  },
  {
   "cell_type": "code",
   "execution_count": 6,
   "metadata": {
    "scrolled": true
   },
   "outputs": [
    {
     "name": "stdout",
     "output_type": "stream",
     "text": [
      "                                order_id                        product_id  \\\n",
      "count                              49999                             49999   \n",
      "unique                             42694                             16866   \n",
      "top     8272b63d03f5f79c56e9e4120aec44ef  99a4788cb24856965c36a24e339b6058   \n",
      "freq                                  21                               366   \n",
      "\n",
      "                               seller_id                       customer_id  \\\n",
      "count                              49999                             49999   \n",
      "unique                              1777                             42694   \n",
      "top     4a3ca9315b744ce9f8e9374361493884  fc3d1daec319d62d49bfb5e1f83123e9   \n",
      "freq                                1236                                21   \n",
      "\n",
      "       order_status purchase_date     payment_type product_category_name  \n",
      "count         49999         49999            49999                 49999  \n",
      "unique            7           356                4                     8  \n",
      "top       delivered    2017-11-24  virtual account                  toys  \n",
      "freq          48664          1015            12581                  6375  \n"
     ]
    }
   ],
   "source": [
    "print(order_df.describe(include=[\"object\"]))"
   ]
  },
  {
   "cell_type": "markdown",
   "metadata": {},
   "source": [
    "<b><i>Statistik Deskriptif dari Data Frame - Part 3</i></b>"
   ]
  },
  {
   "cell_type": "code",
   "execution_count": 7,
   "metadata": {},
   "outputs": [
    {
     "name": "stdout",
     "output_type": "stream",
     "text": [
      "1.1974839496789935\n",
      "800.0\n"
     ]
    }
   ],
   "source": [
    "print(order_df.loc[:, \"quantity\"].mean())\n",
    "print(order_df.loc[:, \"product_weight_gram\"].median())"
   ]
  },
  {
   "cell_type": "markdown",
   "metadata": {},
   "source": [
    "<b><i>Tugas Praktek Chapter 2</i></b>"
   ]
  },
  {
   "cell_type": "code",
   "execution_count": 8,
   "metadata": {},
   "outputs": [
    {
     "name": "stdout",
     "output_type": "stream",
     "text": [
      "           quantity         price  freight_value  product_weight_gram\n",
      "count  49999.000000  4.999900e+04   49999.000000         49980.000000\n",
      "mean       1.197484  2.607784e+06  104521.390428          2201.830892\n",
      "std        0.722262  1.388312e+06   55179.844962          3929.896875\n",
      "min        1.000000  2.000000e+05    9000.000000            50.000000\n",
      "25%        1.000000  1.410500e+06   57000.000000           300.000000\n",
      "50%        1.000000  2.610000e+06  104000.000000           800.000000\n",
      "75%        1.000000  3.810000e+06  152000.000000          1850.000000\n",
      "max       21.000000  5.000000e+06  200000.000000         40425.000000\n"
     ]
    }
   ],
   "source": [
    "# Quick summary dari segi kuantitas, harga, freight value, dan weight\n",
    "print(order_df.describe())"
   ]
  },
  {
   "cell_type": "code",
   "execution_count": 9,
   "metadata": {
    "scrolled": true
   },
   "outputs": [
    {
     "name": "stdout",
     "output_type": "stream",
     "text": [
      "2610000.0\n"
     ]
    }
   ],
   "source": [
    "# Median dari total pembelian konsumen per transaksi kolom price\n",
    "print(order_df.loc[:, \"price\"].median())"
   ]
  },
  {
   "cell_type": "markdown",
   "metadata": {},
   "source": [
    "<b><i>Tugas Praktek Chapter 3</i></b>"
   ]
  },
  {
   "cell_type": "markdown",
   "metadata": {},
   "source": [
    "<b><i>Menggunakan Library Matplotlib</i></b>"
   ]
  },
  {
   "cell_type": "code",
   "execution_count": 10,
   "metadata": {},
   "outputs": [],
   "source": [
    "import matplotlib.pyplot as plt"
   ]
  },
  {
   "cell_type": "code",
   "execution_count": 7,
   "metadata": {
    "scrolled": true
   },
   "outputs": [
    {
     "ename": "AttributeError",
     "evalue": "'Rectangle' object has no property 'xlabelsize'",
     "output_type": "error",
     "traceback": [
      "\u001b[1;31m---------------------------------------------------------------------------\u001b[0m",
      "\u001b[1;31mAttributeError\u001b[0m                            Traceback (most recent call last)",
      "\u001b[1;32m<ipython-input-7-b31fc27a210e>\u001b[0m in \u001b[0;36m<module>\u001b[1;34m\u001b[0m\n\u001b[0;32m      1\u001b[0m \u001b[1;31m# Untuk menampilkan histogram plot\u001b[0m\u001b[1;33m\u001b[0m\u001b[1;33m\u001b[0m\u001b[1;33m\u001b[0m\u001b[0m\n\u001b[1;32m----> 2\u001b[1;33m \u001b[0morder_df\u001b[0m\u001b[1;33m[\u001b[0m\u001b[1;33m[\u001b[0m\u001b[1;34m\"price\"\u001b[0m\u001b[1;33m]\u001b[0m\u001b[1;33m]\u001b[0m\u001b[1;33m.\u001b[0m\u001b[0mplot\u001b[0m\u001b[1;33m.\u001b[0m\u001b[0mhist\u001b[0m\u001b[1;33m(\u001b[0m\u001b[0mfigsize\u001b[0m\u001b[1;33m=\u001b[0m\u001b[1;33m(\u001b[0m\u001b[1;36m4\u001b[0m\u001b[1;33m,\u001b[0m \u001b[1;36m5\u001b[0m\u001b[1;33m)\u001b[0m\u001b[1;33m,\u001b[0m \u001b[0mbins\u001b[0m\u001b[1;33m=\u001b[0m\u001b[1;36m10\u001b[0m\u001b[1;33m,\u001b[0m \u001b[0mxlabelsize\u001b[0m\u001b[1;33m=\u001b[0m\u001b[1;36m8\u001b[0m\u001b[1;33m,\u001b[0m \u001b[0mylabelsize\u001b[0m\u001b[1;33m=\u001b[0m\u001b[1;36m8\u001b[0m\u001b[1;33m)\u001b[0m\u001b[1;33m\u001b[0m\u001b[1;33m\u001b[0m\u001b[0m\n\u001b[0m\u001b[0;32m      3\u001b[0m \u001b[0mplt\u001b[0m\u001b[1;33m.\u001b[0m\u001b[0mshow\u001b[0m\u001b[1;33m(\u001b[0m\u001b[1;33m)\u001b[0m\u001b[1;33m\u001b[0m\u001b[1;33m\u001b[0m\u001b[0m\n",
      "\u001b[1;32m~\\anaconda3\\lib\\site-packages\\pandas\\plotting\\_core.py\u001b[0m in \u001b[0;36mhist\u001b[1;34m(self, by, bins, **kwargs)\u001b[0m\n\u001b[0;32m   1178\u001b[0m             \u001b[1;33m>>\u001b[0m\u001b[1;33m>\u001b[0m \u001b[0max\u001b[0m \u001b[1;33m=\u001b[0m \u001b[0mdf\u001b[0m\u001b[1;33m.\u001b[0m\u001b[0mplot\u001b[0m\u001b[1;33m.\u001b[0m\u001b[0mhist\u001b[0m\u001b[1;33m(\u001b[0m\u001b[0mbins\u001b[0m\u001b[1;33m=\u001b[0m\u001b[1;36m12\u001b[0m\u001b[1;33m,\u001b[0m \u001b[0malpha\u001b[0m\u001b[1;33m=\u001b[0m\u001b[1;36m0.5\u001b[0m\u001b[1;33m)\u001b[0m\u001b[1;33m\u001b[0m\u001b[1;33m\u001b[0m\u001b[0m\n\u001b[0;32m   1179\u001b[0m         \"\"\"\n\u001b[1;32m-> 1180\u001b[1;33m         \u001b[1;32mreturn\u001b[0m \u001b[0mself\u001b[0m\u001b[1;33m(\u001b[0m\u001b[0mkind\u001b[0m\u001b[1;33m=\u001b[0m\u001b[1;34m\"hist\"\u001b[0m\u001b[1;33m,\u001b[0m \u001b[0mby\u001b[0m\u001b[1;33m=\u001b[0m\u001b[0mby\u001b[0m\u001b[1;33m,\u001b[0m \u001b[0mbins\u001b[0m\u001b[1;33m=\u001b[0m\u001b[0mbins\u001b[0m\u001b[1;33m,\u001b[0m \u001b[1;33m**\u001b[0m\u001b[0mkwargs\u001b[0m\u001b[1;33m)\u001b[0m\u001b[1;33m\u001b[0m\u001b[1;33m\u001b[0m\u001b[0m\n\u001b[0m\u001b[0;32m   1181\u001b[0m \u001b[1;33m\u001b[0m\u001b[0m\n\u001b[0;32m   1182\u001b[0m     \u001b[1;32mdef\u001b[0m \u001b[0mkde\u001b[0m\u001b[1;33m(\u001b[0m\u001b[0mself\u001b[0m\u001b[1;33m,\u001b[0m \u001b[0mbw_method\u001b[0m\u001b[1;33m=\u001b[0m\u001b[1;32mNone\u001b[0m\u001b[1;33m,\u001b[0m \u001b[0mind\u001b[0m\u001b[1;33m=\u001b[0m\u001b[1;32mNone\u001b[0m\u001b[1;33m,\u001b[0m \u001b[1;33m**\u001b[0m\u001b[0mkwargs\u001b[0m\u001b[1;33m)\u001b[0m\u001b[1;33m:\u001b[0m\u001b[1;33m\u001b[0m\u001b[1;33m\u001b[0m\u001b[0m\n",
      "\u001b[1;32m~\\anaconda3\\lib\\site-packages\\pandas\\plotting\\_core.py\u001b[0m in \u001b[0;36m__call__\u001b[1;34m(self, *args, **kwargs)\u001b[0m\n\u001b[0;32m    845\u001b[0m                     \u001b[0mdata\u001b[0m\u001b[1;33m.\u001b[0m\u001b[0mcolumns\u001b[0m \u001b[1;33m=\u001b[0m \u001b[0mlabel_name\u001b[0m\u001b[1;33m\u001b[0m\u001b[1;33m\u001b[0m\u001b[0m\n\u001b[0;32m    846\u001b[0m \u001b[1;33m\u001b[0m\u001b[0m\n\u001b[1;32m--> 847\u001b[1;33m         \u001b[1;32mreturn\u001b[0m \u001b[0mplot_backend\u001b[0m\u001b[1;33m.\u001b[0m\u001b[0mplot\u001b[0m\u001b[1;33m(\u001b[0m\u001b[0mdata\u001b[0m\u001b[1;33m,\u001b[0m \u001b[0mkind\u001b[0m\u001b[1;33m=\u001b[0m\u001b[0mkind\u001b[0m\u001b[1;33m,\u001b[0m \u001b[1;33m**\u001b[0m\u001b[0mkwargs\u001b[0m\u001b[1;33m)\u001b[0m\u001b[1;33m\u001b[0m\u001b[1;33m\u001b[0m\u001b[0m\n\u001b[0m\u001b[0;32m    848\u001b[0m \u001b[1;33m\u001b[0m\u001b[0m\n\u001b[0;32m    849\u001b[0m     \u001b[0m__call__\u001b[0m\u001b[1;33m.\u001b[0m\u001b[0m__doc__\u001b[0m \u001b[1;33m=\u001b[0m \u001b[0m__doc__\u001b[0m\u001b[1;33m\u001b[0m\u001b[1;33m\u001b[0m\u001b[0m\n",
      "\u001b[1;32m~\\anaconda3\\lib\\site-packages\\pandas\\plotting\\_matplotlib\\__init__.py\u001b[0m in \u001b[0;36mplot\u001b[1;34m(data, kind, **kwargs)\u001b[0m\n\u001b[0;32m     59\u001b[0m             \u001b[0mkwargs\u001b[0m\u001b[1;33m[\u001b[0m\u001b[1;34m\"ax\"\u001b[0m\u001b[1;33m]\u001b[0m \u001b[1;33m=\u001b[0m \u001b[0mgetattr\u001b[0m\u001b[1;33m(\u001b[0m\u001b[0max\u001b[0m\u001b[1;33m,\u001b[0m \u001b[1;34m\"left_ax\"\u001b[0m\u001b[1;33m,\u001b[0m \u001b[0max\u001b[0m\u001b[1;33m)\u001b[0m\u001b[1;33m\u001b[0m\u001b[1;33m\u001b[0m\u001b[0m\n\u001b[0;32m     60\u001b[0m     \u001b[0mplot_obj\u001b[0m \u001b[1;33m=\u001b[0m \u001b[0mPLOT_CLASSES\u001b[0m\u001b[1;33m[\u001b[0m\u001b[0mkind\u001b[0m\u001b[1;33m]\u001b[0m\u001b[1;33m(\u001b[0m\u001b[0mdata\u001b[0m\u001b[1;33m,\u001b[0m \u001b[1;33m**\u001b[0m\u001b[0mkwargs\u001b[0m\u001b[1;33m)\u001b[0m\u001b[1;33m\u001b[0m\u001b[1;33m\u001b[0m\u001b[0m\n\u001b[1;32m---> 61\u001b[1;33m     \u001b[0mplot_obj\u001b[0m\u001b[1;33m.\u001b[0m\u001b[0mgenerate\u001b[0m\u001b[1;33m(\u001b[0m\u001b[1;33m)\u001b[0m\u001b[1;33m\u001b[0m\u001b[1;33m\u001b[0m\u001b[0m\n\u001b[0m\u001b[0;32m     62\u001b[0m     \u001b[0mplot_obj\u001b[0m\u001b[1;33m.\u001b[0m\u001b[0mdraw\u001b[0m\u001b[1;33m(\u001b[0m\u001b[1;33m)\u001b[0m\u001b[1;33m\u001b[0m\u001b[1;33m\u001b[0m\u001b[0m\n\u001b[0;32m     63\u001b[0m     \u001b[1;32mreturn\u001b[0m \u001b[0mplot_obj\u001b[0m\u001b[1;33m.\u001b[0m\u001b[0mresult\u001b[0m\u001b[1;33m\u001b[0m\u001b[1;33m\u001b[0m\u001b[0m\n",
      "\u001b[1;32m~\\anaconda3\\lib\\site-packages\\pandas\\plotting\\_matplotlib\\core.py\u001b[0m in \u001b[0;36mgenerate\u001b[1;34m(self)\u001b[0m\n\u001b[0;32m    261\u001b[0m         \u001b[0mself\u001b[0m\u001b[1;33m.\u001b[0m\u001b[0m_compute_plot_data\u001b[0m\u001b[1;33m(\u001b[0m\u001b[1;33m)\u001b[0m\u001b[1;33m\u001b[0m\u001b[1;33m\u001b[0m\u001b[0m\n\u001b[0;32m    262\u001b[0m         \u001b[0mself\u001b[0m\u001b[1;33m.\u001b[0m\u001b[0m_setup_subplots\u001b[0m\u001b[1;33m(\u001b[0m\u001b[1;33m)\u001b[0m\u001b[1;33m\u001b[0m\u001b[1;33m\u001b[0m\u001b[0m\n\u001b[1;32m--> 263\u001b[1;33m         \u001b[0mself\u001b[0m\u001b[1;33m.\u001b[0m\u001b[0m_make_plot\u001b[0m\u001b[1;33m(\u001b[0m\u001b[1;33m)\u001b[0m\u001b[1;33m\u001b[0m\u001b[1;33m\u001b[0m\u001b[0m\n\u001b[0m\u001b[0;32m    264\u001b[0m         \u001b[0mself\u001b[0m\u001b[1;33m.\u001b[0m\u001b[0m_add_table\u001b[0m\u001b[1;33m(\u001b[0m\u001b[1;33m)\u001b[0m\u001b[1;33m\u001b[0m\u001b[1;33m\u001b[0m\u001b[0m\n\u001b[0;32m    265\u001b[0m         \u001b[0mself\u001b[0m\u001b[1;33m.\u001b[0m\u001b[0m_make_legend\u001b[0m\u001b[1;33m(\u001b[0m\u001b[1;33m)\u001b[0m\u001b[1;33m\u001b[0m\u001b[1;33m\u001b[0m\u001b[0m\n",
      "\u001b[1;32m~\\anaconda3\\lib\\site-packages\\pandas\\plotting\\_matplotlib\\hist.py\u001b[0m in \u001b[0;36m_make_plot\u001b[1;34m(self)\u001b[0m\n\u001b[0;32m     78\u001b[0m \u001b[1;33m\u001b[0m\u001b[0m\n\u001b[0;32m     79\u001b[0m             \u001b[0mkwds\u001b[0m \u001b[1;33m=\u001b[0m \u001b[0mself\u001b[0m\u001b[1;33m.\u001b[0m\u001b[0m_make_plot_keywords\u001b[0m\u001b[1;33m(\u001b[0m\u001b[0mkwds\u001b[0m\u001b[1;33m,\u001b[0m \u001b[0my\u001b[0m\u001b[1;33m)\u001b[0m\u001b[1;33m\u001b[0m\u001b[1;33m\u001b[0m\u001b[0m\n\u001b[1;32m---> 80\u001b[1;33m             \u001b[0martists\u001b[0m \u001b[1;33m=\u001b[0m \u001b[0mself\u001b[0m\u001b[1;33m.\u001b[0m\u001b[0m_plot\u001b[0m\u001b[1;33m(\u001b[0m\u001b[0max\u001b[0m\u001b[1;33m,\u001b[0m \u001b[0my\u001b[0m\u001b[1;33m,\u001b[0m \u001b[0mcolumn_num\u001b[0m\u001b[1;33m=\u001b[0m\u001b[0mi\u001b[0m\u001b[1;33m,\u001b[0m \u001b[0mstacking_id\u001b[0m\u001b[1;33m=\u001b[0m\u001b[0mstacking_id\u001b[0m\u001b[1;33m,\u001b[0m \u001b[1;33m**\u001b[0m\u001b[0mkwds\u001b[0m\u001b[1;33m)\u001b[0m\u001b[1;33m\u001b[0m\u001b[1;33m\u001b[0m\u001b[0m\n\u001b[0m\u001b[0;32m     81\u001b[0m             \u001b[0mself\u001b[0m\u001b[1;33m.\u001b[0m\u001b[0m_add_legend_handle\u001b[0m\u001b[1;33m(\u001b[0m\u001b[0martists\u001b[0m\u001b[1;33m[\u001b[0m\u001b[1;36m0\u001b[0m\u001b[1;33m]\u001b[0m\u001b[1;33m,\u001b[0m \u001b[0mlabel\u001b[0m\u001b[1;33m,\u001b[0m \u001b[0mindex\u001b[0m\u001b[1;33m=\u001b[0m\u001b[0mi\u001b[0m\u001b[1;33m)\u001b[0m\u001b[1;33m\u001b[0m\u001b[1;33m\u001b[0m\u001b[0m\n\u001b[0;32m     82\u001b[0m \u001b[1;33m\u001b[0m\u001b[0m\n",
      "\u001b[1;32m~\\anaconda3\\lib\\site-packages\\pandas\\plotting\\_matplotlib\\hist.py\u001b[0m in \u001b[0;36m_plot\u001b[1;34m(cls, ax, y, style, bins, bottom, column_num, stacking_id, **kwds)\u001b[0m\n\u001b[0;32m     57\u001b[0m         \u001b[0mbottom\u001b[0m \u001b[1;33m=\u001b[0m \u001b[0mbottom\u001b[0m \u001b[1;33m+\u001b[0m \u001b[0mcls\u001b[0m\u001b[1;33m.\u001b[0m\u001b[0m_get_stacked_values\u001b[0m\u001b[1;33m(\u001b[0m\u001b[0max\u001b[0m\u001b[1;33m,\u001b[0m \u001b[0mstacking_id\u001b[0m\u001b[1;33m,\u001b[0m \u001b[0mbase\u001b[0m\u001b[1;33m,\u001b[0m \u001b[0mkwds\u001b[0m\u001b[1;33m[\u001b[0m\u001b[1;34m\"label\"\u001b[0m\u001b[1;33m]\u001b[0m\u001b[1;33m)\u001b[0m\u001b[1;33m\u001b[0m\u001b[1;33m\u001b[0m\u001b[0m\n\u001b[0;32m     58\u001b[0m         \u001b[1;31m# ignore style\u001b[0m\u001b[1;33m\u001b[0m\u001b[1;33m\u001b[0m\u001b[1;33m\u001b[0m\u001b[0m\n\u001b[1;32m---> 59\u001b[1;33m         \u001b[0mn\u001b[0m\u001b[1;33m,\u001b[0m \u001b[0mbins\u001b[0m\u001b[1;33m,\u001b[0m \u001b[0mpatches\u001b[0m \u001b[1;33m=\u001b[0m \u001b[0max\u001b[0m\u001b[1;33m.\u001b[0m\u001b[0mhist\u001b[0m\u001b[1;33m(\u001b[0m\u001b[0my\u001b[0m\u001b[1;33m,\u001b[0m \u001b[0mbins\u001b[0m\u001b[1;33m=\u001b[0m\u001b[0mbins\u001b[0m\u001b[1;33m,\u001b[0m \u001b[0mbottom\u001b[0m\u001b[1;33m=\u001b[0m\u001b[0mbottom\u001b[0m\u001b[1;33m,\u001b[0m \u001b[1;33m**\u001b[0m\u001b[0mkwds\u001b[0m\u001b[1;33m)\u001b[0m\u001b[1;33m\u001b[0m\u001b[1;33m\u001b[0m\u001b[0m\n\u001b[0m\u001b[0;32m     60\u001b[0m         \u001b[0mcls\u001b[0m\u001b[1;33m.\u001b[0m\u001b[0m_update_stacker\u001b[0m\u001b[1;33m(\u001b[0m\u001b[0max\u001b[0m\u001b[1;33m,\u001b[0m \u001b[0mstacking_id\u001b[0m\u001b[1;33m,\u001b[0m \u001b[0mn\u001b[0m\u001b[1;33m)\u001b[0m\u001b[1;33m\u001b[0m\u001b[1;33m\u001b[0m\u001b[0m\n\u001b[0;32m     61\u001b[0m         \u001b[1;32mreturn\u001b[0m \u001b[0mpatches\u001b[0m\u001b[1;33m\u001b[0m\u001b[1;33m\u001b[0m\u001b[0m\n",
      "\u001b[1;32m~\\anaconda3\\lib\\site-packages\\matplotlib\\__init__.py\u001b[0m in \u001b[0;36minner\u001b[1;34m(ax, data, *args, **kwargs)\u001b[0m\n\u001b[0;32m   1563\u001b[0m     \u001b[1;32mdef\u001b[0m \u001b[0minner\u001b[0m\u001b[1;33m(\u001b[0m\u001b[0max\u001b[0m\u001b[1;33m,\u001b[0m \u001b[1;33m*\u001b[0m\u001b[0margs\u001b[0m\u001b[1;33m,\u001b[0m \u001b[0mdata\u001b[0m\u001b[1;33m=\u001b[0m\u001b[1;32mNone\u001b[0m\u001b[1;33m,\u001b[0m \u001b[1;33m**\u001b[0m\u001b[0mkwargs\u001b[0m\u001b[1;33m)\u001b[0m\u001b[1;33m:\u001b[0m\u001b[1;33m\u001b[0m\u001b[1;33m\u001b[0m\u001b[0m\n\u001b[0;32m   1564\u001b[0m         \u001b[1;32mif\u001b[0m \u001b[0mdata\u001b[0m \u001b[1;32mis\u001b[0m \u001b[1;32mNone\u001b[0m\u001b[1;33m:\u001b[0m\u001b[1;33m\u001b[0m\u001b[1;33m\u001b[0m\u001b[0m\n\u001b[1;32m-> 1565\u001b[1;33m             \u001b[1;32mreturn\u001b[0m \u001b[0mfunc\u001b[0m\u001b[1;33m(\u001b[0m\u001b[0max\u001b[0m\u001b[1;33m,\u001b[0m \u001b[1;33m*\u001b[0m\u001b[0mmap\u001b[0m\u001b[1;33m(\u001b[0m\u001b[0msanitize_sequence\u001b[0m\u001b[1;33m,\u001b[0m \u001b[0margs\u001b[0m\u001b[1;33m)\u001b[0m\u001b[1;33m,\u001b[0m \u001b[1;33m**\u001b[0m\u001b[0mkwargs\u001b[0m\u001b[1;33m)\u001b[0m\u001b[1;33m\u001b[0m\u001b[1;33m\u001b[0m\u001b[0m\n\u001b[0m\u001b[0;32m   1566\u001b[0m \u001b[1;33m\u001b[0m\u001b[0m\n\u001b[0;32m   1567\u001b[0m         \u001b[0mbound\u001b[0m \u001b[1;33m=\u001b[0m \u001b[0mnew_sig\u001b[0m\u001b[1;33m.\u001b[0m\u001b[0mbind\u001b[0m\u001b[1;33m(\u001b[0m\u001b[0max\u001b[0m\u001b[1;33m,\u001b[0m \u001b[1;33m*\u001b[0m\u001b[0margs\u001b[0m\u001b[1;33m,\u001b[0m \u001b[1;33m**\u001b[0m\u001b[0mkwargs\u001b[0m\u001b[1;33m)\u001b[0m\u001b[1;33m\u001b[0m\u001b[1;33m\u001b[0m\u001b[0m\n",
      "\u001b[1;32m~\\anaconda3\\lib\\site-packages\\matplotlib\\axes\\_axes.py\u001b[0m in \u001b[0;36mhist\u001b[1;34m(self, x, bins, range, density, weights, cumulative, bottom, histtype, align, orientation, rwidth, log, color, label, stacked, **kwargs)\u001b[0m\n\u001b[0;32m   6817\u001b[0m             \u001b[1;32mif\u001b[0m \u001b[0mpatch\u001b[0m\u001b[1;33m:\u001b[0m\u001b[1;33m\u001b[0m\u001b[1;33m\u001b[0m\u001b[0m\n\u001b[0;32m   6818\u001b[0m                 \u001b[0mp\u001b[0m \u001b[1;33m=\u001b[0m \u001b[0mpatch\u001b[0m\u001b[1;33m[\u001b[0m\u001b[1;36m0\u001b[0m\u001b[1;33m]\u001b[0m\u001b[1;33m\u001b[0m\u001b[1;33m\u001b[0m\u001b[0m\n\u001b[1;32m-> 6819\u001b[1;33m                 \u001b[0mp\u001b[0m\u001b[1;33m.\u001b[0m\u001b[0mupdate\u001b[0m\u001b[1;33m(\u001b[0m\u001b[0mkwargs\u001b[0m\u001b[1;33m)\u001b[0m\u001b[1;33m\u001b[0m\u001b[1;33m\u001b[0m\u001b[0m\n\u001b[0m\u001b[0;32m   6820\u001b[0m                 \u001b[1;32mif\u001b[0m \u001b[0mlbl\u001b[0m \u001b[1;32mis\u001b[0m \u001b[1;32mnot\u001b[0m \u001b[1;32mNone\u001b[0m\u001b[1;33m:\u001b[0m\u001b[1;33m\u001b[0m\u001b[1;33m\u001b[0m\u001b[0m\n\u001b[0;32m   6821\u001b[0m                     \u001b[0mp\u001b[0m\u001b[1;33m.\u001b[0m\u001b[0mset_label\u001b[0m\u001b[1;33m(\u001b[0m\u001b[0mlbl\u001b[0m\u001b[1;33m)\u001b[0m\u001b[1;33m\u001b[0m\u001b[1;33m\u001b[0m\u001b[0m\n",
      "\u001b[1;32m~\\anaconda3\\lib\\site-packages\\matplotlib\\artist.py\u001b[0m in \u001b[0;36mupdate\u001b[1;34m(self, props)\u001b[0m\n\u001b[0;32m   1004\u001b[0m \u001b[1;33m\u001b[0m\u001b[0m\n\u001b[0;32m   1005\u001b[0m         \u001b[1;32mwith\u001b[0m \u001b[0mcbook\u001b[0m\u001b[1;33m.\u001b[0m\u001b[0m_setattr_cm\u001b[0m\u001b[1;33m(\u001b[0m\u001b[0mself\u001b[0m\u001b[1;33m,\u001b[0m \u001b[0meventson\u001b[0m\u001b[1;33m=\u001b[0m\u001b[1;32mFalse\u001b[0m\u001b[1;33m)\u001b[0m\u001b[1;33m:\u001b[0m\u001b[1;33m\u001b[0m\u001b[1;33m\u001b[0m\u001b[0m\n\u001b[1;32m-> 1006\u001b[1;33m             \u001b[0mret\u001b[0m \u001b[1;33m=\u001b[0m \u001b[1;33m[\u001b[0m\u001b[0m_update_property\u001b[0m\u001b[1;33m(\u001b[0m\u001b[0mself\u001b[0m\u001b[1;33m,\u001b[0m \u001b[0mk\u001b[0m\u001b[1;33m,\u001b[0m \u001b[0mv\u001b[0m\u001b[1;33m)\u001b[0m \u001b[1;32mfor\u001b[0m \u001b[0mk\u001b[0m\u001b[1;33m,\u001b[0m \u001b[0mv\u001b[0m \u001b[1;32min\u001b[0m \u001b[0mprops\u001b[0m\u001b[1;33m.\u001b[0m\u001b[0mitems\u001b[0m\u001b[1;33m(\u001b[0m\u001b[1;33m)\u001b[0m\u001b[1;33m]\u001b[0m\u001b[1;33m\u001b[0m\u001b[1;33m\u001b[0m\u001b[0m\n\u001b[0m\u001b[0;32m   1007\u001b[0m \u001b[1;33m\u001b[0m\u001b[0m\n\u001b[0;32m   1008\u001b[0m         \u001b[1;32mif\u001b[0m \u001b[0mlen\u001b[0m\u001b[1;33m(\u001b[0m\u001b[0mret\u001b[0m\u001b[1;33m)\u001b[0m\u001b[1;33m:\u001b[0m\u001b[1;33m\u001b[0m\u001b[1;33m\u001b[0m\u001b[0m\n",
      "\u001b[1;32m~\\anaconda3\\lib\\site-packages\\matplotlib\\artist.py\u001b[0m in \u001b[0;36m<listcomp>\u001b[1;34m(.0)\u001b[0m\n\u001b[0;32m   1004\u001b[0m \u001b[1;33m\u001b[0m\u001b[0m\n\u001b[0;32m   1005\u001b[0m         \u001b[1;32mwith\u001b[0m \u001b[0mcbook\u001b[0m\u001b[1;33m.\u001b[0m\u001b[0m_setattr_cm\u001b[0m\u001b[1;33m(\u001b[0m\u001b[0mself\u001b[0m\u001b[1;33m,\u001b[0m \u001b[0meventson\u001b[0m\u001b[1;33m=\u001b[0m\u001b[1;32mFalse\u001b[0m\u001b[1;33m)\u001b[0m\u001b[1;33m:\u001b[0m\u001b[1;33m\u001b[0m\u001b[1;33m\u001b[0m\u001b[0m\n\u001b[1;32m-> 1006\u001b[1;33m             \u001b[0mret\u001b[0m \u001b[1;33m=\u001b[0m \u001b[1;33m[\u001b[0m\u001b[0m_update_property\u001b[0m\u001b[1;33m(\u001b[0m\u001b[0mself\u001b[0m\u001b[1;33m,\u001b[0m \u001b[0mk\u001b[0m\u001b[1;33m,\u001b[0m \u001b[0mv\u001b[0m\u001b[1;33m)\u001b[0m \u001b[1;32mfor\u001b[0m \u001b[0mk\u001b[0m\u001b[1;33m,\u001b[0m \u001b[0mv\u001b[0m \u001b[1;32min\u001b[0m \u001b[0mprops\u001b[0m\u001b[1;33m.\u001b[0m\u001b[0mitems\u001b[0m\u001b[1;33m(\u001b[0m\u001b[1;33m)\u001b[0m\u001b[1;33m]\u001b[0m\u001b[1;33m\u001b[0m\u001b[1;33m\u001b[0m\u001b[0m\n\u001b[0m\u001b[0;32m   1007\u001b[0m \u001b[1;33m\u001b[0m\u001b[0m\n\u001b[0;32m   1008\u001b[0m         \u001b[1;32mif\u001b[0m \u001b[0mlen\u001b[0m\u001b[1;33m(\u001b[0m\u001b[0mret\u001b[0m\u001b[1;33m)\u001b[0m\u001b[1;33m:\u001b[0m\u001b[1;33m\u001b[0m\u001b[1;33m\u001b[0m\u001b[0m\n",
      "\u001b[1;32m~\\anaconda3\\lib\\site-packages\\matplotlib\\artist.py\u001b[0m in \u001b[0;36m_update_property\u001b[1;34m(self, k, v)\u001b[0m\n\u001b[0;32m    999\u001b[0m                 \u001b[0mfunc\u001b[0m \u001b[1;33m=\u001b[0m \u001b[0mgetattr\u001b[0m\u001b[1;33m(\u001b[0m\u001b[0mself\u001b[0m\u001b[1;33m,\u001b[0m \u001b[1;34m'set_'\u001b[0m \u001b[1;33m+\u001b[0m \u001b[0mk\u001b[0m\u001b[1;33m,\u001b[0m \u001b[1;32mNone\u001b[0m\u001b[1;33m)\u001b[0m\u001b[1;33m\u001b[0m\u001b[1;33m\u001b[0m\u001b[0m\n\u001b[0;32m   1000\u001b[0m                 \u001b[1;32mif\u001b[0m \u001b[1;32mnot\u001b[0m \u001b[0mcallable\u001b[0m\u001b[1;33m(\u001b[0m\u001b[0mfunc\u001b[0m\u001b[1;33m)\u001b[0m\u001b[1;33m:\u001b[0m\u001b[1;33m\u001b[0m\u001b[1;33m\u001b[0m\u001b[0m\n\u001b[1;32m-> 1001\u001b[1;33m                     raise AttributeError('{!r} object has no property {!r}'\n\u001b[0m\u001b[0;32m   1002\u001b[0m                                          .format(type(self).__name__, k))\n\u001b[0;32m   1003\u001b[0m                 \u001b[1;32mreturn\u001b[0m \u001b[0mfunc\u001b[0m\u001b[1;33m(\u001b[0m\u001b[0mv\u001b[0m\u001b[1;33m)\u001b[0m\u001b[1;33m\u001b[0m\u001b[1;33m\u001b[0m\u001b[0m\n",
      "\u001b[1;31mAttributeError\u001b[0m: 'Rectangle' object has no property 'xlabelsize'"
     ]
    },
    {
     "data": {
      "image/png": "[encoded data removed]",
      "text/plain": [
       "<Figure size 288x360 with 1 Axes>"
      ]
     },
     "metadata": {
      "needs_background": "light"
     },
     "output_type": "display_data"
    }
   ],
   "source": [
    "# Untuk menampilkan histogram plot\n",
    "order_df[[\"price\"]].plot.hist(figsize=(4, 5), bins=10, xlabelsize=8, ylabelsize=8)\n",
    "plt.show()"
   ]
  },
  {
   "cell_type": "markdown",
   "metadata": {},
   "source": [
    "<b><i>Standar Deviasi dan Varians</i></b>"
   ]
  },
  {
   "cell_type": "code",
   "execution_count": 12,
   "metadata": {},
   "outputs": [
    {
     "name": "stdout",
     "output_type": "stream",
     "text": [
      "3929.896875372737\n",
      "15444089.451064402\n"
     ]
    }
   ],
   "source": [
    "print(order_df.loc[:, \"product_weight_gram\"].std())\n",
    "print(order_df.loc[:, \"product_weight_gram\"].var())"
   ]
  },
  {
   "cell_type": "code",
   "execution_count": 14,
   "metadata": {
    "scrolled": true
   },
   "outputs": [
    {
     "data": {
      "text/plain": [
       "3929.896875372737"
      ]
     },
     "execution_count": 14,
     "metadata": {},
     "output_type": "execute_result"
    }
   ],
   "source": [
    "# Tanpa menggunakan print juga bisa\n",
    "order_df.loc[:, \"product_weight_gram\"].std()"
   ]
  },
  {
   "cell_type": "markdown",
   "metadata": {},
   "source": [
    "<b><i>Menemukan Outlier Menggunakan Pandas</i></b>"
   ]
  },
  {
   "cell_type": "code",
   "execution_count": 23,
   "metadata": {
    "scrolled": true
   },
   "outputs": [
    {
     "name": "stdout",
     "output_type": "stream",
     "text": [
      "product_weight_gram    1550.0\n",
      "dtype: float64\n"
     ]
    }
   ],
   "source": [
    "# Hitung quartile 1\n",
    "Q1 = order_df[[\"product_weight_gram\"]].quantile(0.25)\n",
    "# Hitung quartile 3\n",
    "Q3 = order_df[[\"product_weight_gram\"]].quantile(0.75)\n",
    "# Hitung inter quartile range dan cetak ke console\n",
    "IQR = Q3 - Q1\n",
    "print(IQR)"
   ]
  },
  {
   "cell_type": "code",
   "execution_count": 20,
   "metadata": {},
   "outputs": [
    {
     "name": "stdout",
     "output_type": "stream",
     "text": [
      "       customer_id  freight_value  order_id  order_status  payment_type  \\\n",
      "0            False          False     False         False         False   \n",
      "1            False          False     False         False         False   \n",
      "2            False          False     False         False         False   \n",
      "3            False          False     False         False         False   \n",
      "4            False          False     False         False         False   \n",
      "...            ...            ...       ...           ...           ...   \n",
      "49994        False          False     False         False         False   \n",
      "49995        False          False     False         False         False   \n",
      "49996        False          False     False         False         False   \n",
      "49997        False          False     False         False         False   \n",
      "49998        False          False     False         False         False   \n",
      "\n",
      "       price  product_category_name  product_id  product_weight_gram  \\\n",
      "0      False                  False       False                False   \n",
      "1      False                  False       False                False   \n",
      "2      False                  False       False                False   \n",
      "3      False                  False       False                False   \n",
      "4      False                  False       False                False   \n",
      "...      ...                    ...         ...                  ...   \n",
      "49994  False                  False       False                False   \n",
      "49995  False                  False       False                False   \n",
      "49996  False                  False       False                False   \n",
      "49997  False                  False       False                False   \n",
      "49998  False                  False       False                False   \n",
      "\n",
      "       purchase_date  quantity  seller_id  \n",
      "0              False     False      False  \n",
      "1              False     False      False  \n",
      "2              False     False      False  \n",
      "3              False     False      False  \n",
      "4              False     False      False  \n",
      "...              ...       ...        ...  \n",
      "49994          False     False      False  \n",
      "49995          False     False      False  \n",
      "49996          False     False      False  \n",
      "49997          False     False      False  \n",
      "49998          False     False      False  \n",
      "\n",
      "[49999 rows x 12 columns]\n"
     ]
    }
   ],
   "source": [
    "print((order_df < (Q1 - 1.5*IQR)) | (order_df > (Q3 + 1.5*IQR)))"
   ]
  },
  {
   "cell_type": "markdown",
   "metadata": {},
   "source": [
    " <b><i>Rename Kolom Data Frame</i></b>"
   ]
  },
  {
   "cell_type": "code",
   "execution_count": 24,
   "metadata": {},
   "outputs": [
    {
     "name": "stdout",
     "output_type": "stream",
     "text": [
      "                               order_id  quantity  \\\n",
      "0      2e7a8482f6fb09756ca50c10d7bfc047         2   \n",
      "1      2e7a8482f6fb09756ca50c10d7bfc047         1   \n",
      "2      e5fa5a7210941f7d56d0208e4e071d35         1   \n",
      "3      3b697a20d9e427646d92567910af6d57         1   \n",
      "4      71303d7e93b399f5bcd537d124c0bcfa         1   \n",
      "...                                 ...       ...   \n",
      "49994  ec88157ad03aa203c3fdfe7bace5ab6b         1   \n",
      "49995  ed60085e92e2aa3debf49159deb34da7         1   \n",
      "49996  ed98c37d860890f940e2acd83629fdd1         2   \n",
      "49997  ed98c37d860890f940e2acd83629fdd1         1   \n",
      "49998  ede4ebbb6e36cbd377eabcc7f5229575         1   \n",
      "\n",
      "                             product_id    price  \\\n",
      "0      f293394c72c9b5fafd7023301fc21fc2  1489000   \n",
      "1      c1488892604e4ba5cff5b4eb4d595400  1756000   \n",
      "2      f3c2d01a84c947b078e32bbef0718962  1707000   \n",
      "3      3ae08df6bcbfe23586dd431c40bddbb7  3071000   \n",
      "4      d2998d7ced12f83f9b832f33cf6507b6  3833000   \n",
      "...                                 ...      ...   \n",
      "49994  165f86fe8b799a708a20ee4ba125c289  3077000   \n",
      "49995  6e835aea84ae8eb68b8c14878dd43b30  1277000   \n",
      "49996  aca2eb7d00ea1a7b8ebd4e68314663af   486000   \n",
      "49997  aca2eb7d00ea1a7b8ebd4e68314663af   830000   \n",
      "49998  2b0ee2d07306f7c9ac55a43166e9bb4b   215000   \n",
      "\n",
      "                              seller_id  shipping_cost  \\\n",
      "0      1554a68530182680ad5c8b042c3ab563          28000   \n",
      "1      1554a68530182680ad5c8b042c3ab563          45000   \n",
      "2      a425f92c199eb576938df686728acd20         174000   \n",
      "3      522620dcb18a6b31cd7bdf73665113a9         154000   \n",
      "4      25e6ffe976bd75618accfe16cefcbd0d         147000   \n",
      "...                                 ...            ...   \n",
      "49994  7ddcbb64b5bc1ef36ca8c151f6ec77df         172000   \n",
      "49995  4d6d651bd7684af3fffabd5f08d12e5a         130000   \n",
      "49996  955fee9216a65b617aa5c0531780ce60          14000   \n",
      "49997  955fee9216a65b617aa5c0531780ce60         108000   \n",
      "49998  1900267e848ceeba8fa32d80c1a5f5a8         189000   \n",
      "\n",
      "                            customer_id order_status purchase_date  \\\n",
      "0      08c5351a6aca1c1589a38f244edeee9d      shipped    2016-09-05   \n",
      "1      08c5351a6aca1c1589a38f244edeee9d      shipped    2016-09-05   \n",
      "2      683c54fc24d40ee9f8a6fc179fd9856c     canceled    2016-09-05   \n",
      "3      355077684019f7f60a031656bd7262b8    delivered    2016-10-03   \n",
      "4      b106b360fe2ef8849fbbd056f777b4d5     canceled    2016-10-03   \n",
      "...                                 ...          ...           ...   \n",
      "49994  1642b8087a8ca0c8592becff7e183c98    delivered    2017-12-15   \n",
      "49995  431bbb57d52f3141ab2f33a6a4cf00a6    delivered    2017-12-15   \n",
      "49996  71f8cd490677ee95362201588c0eaff4    delivered    2017-12-15   \n",
      "49997  71f8cd490677ee95362201588c0eaff4    delivered    2017-12-15   \n",
      "49998  60d2d93a97ec1ad751f2ddce9249ba2a    delivered    2017-12-15   \n",
      "\n",
      "          payment_type product_category_name  product_weight_gram  \n",
      "0      virtual account               fashion               1800.0  \n",
      "1      virtual account            automotive               1400.0  \n",
      "2             e-wallet                  toys                700.0  \n",
      "3             e-wallet             utilities                300.0  \n",
      "4             e-wallet               fashion                500.0  \n",
      "...                ...                   ...                  ...  \n",
      "49994         e-wallet            automotive               2425.0  \n",
      "49995       debit card                beauty               2350.0  \n",
      "49996       debit card                gadget               2600.0  \n",
      "49997         e-wallet                gadget               2600.0  \n",
      "49998      credit card                beauty               1450.0  \n",
      "\n",
      "[49999 rows x 12 columns]\n"
     ]
    }
   ],
   "source": [
    "# Ganti nama kolom freight_value menjadi shipping_cost\n",
    "order_df.rename(columns={\"freight_value\": \"shipping_cost\"}, inplace=True)\n",
    "print(order_df)"
   ]
  },
  {
   "cell_type": "markdown",
   "metadata": {},
   "source": [
    "<b><i>.groupby menggunakan Pandas</i></b>"
   ]
  },
  {
   "cell_type": "code",
   "execution_count": 3,
   "metadata": {},
   "outputs": [
    {
     "name": "stdout",
     "output_type": "stream",
     "text": [
      "payment_type\n",
      "credit card        2.600706e+06\n",
      "debit card         2.611974e+06\n",
      "e-wallet           2.598562e+06\n",
      "virtual account    2.619786e+06\n",
      "Name: price, dtype: float64\n"
     ]
    }
   ],
   "source": [
    "# Hitung rata rata dari price per payment_type\n",
    "rata_rata = order_df[\"price\"].groupby(order_df[\"payment_type\"]).mean()\n",
    "print(rata_rata)"
   ]
  },
  {
   "cell_type": "code",
   "execution_count": 26,
   "metadata": {},
   "outputs": [
    {
     "name": "stdout",
     "output_type": "stream",
     "text": [
      "                               order_id  quantity  \\\n",
      "37085  d7b2d3b902441cf3dd12cd125533217d         1   \n",
      "41958  2711089c7fec59d4dc8483e3c6a12fa3         1   \n",
      "3976   f343624eab419250ad81f1ce6be22c93         1   \n",
      "21072  c8947a583ab9791a5a9d02384cb84302         1   \n",
      "47074  f6134169ca6f0cdfbe6458ebb5731613         1   \n",
      "...                                 ...       ...   \n",
      "33786  0d9e86e02c1a823b20c03ea29d616607         1   \n",
      "42166  54220fcc516cabe9ec84b210c0765ef2         1   \n",
      "31745  59a19c83ff825948739dd1601cc107b6         1   \n",
      "42452  9960ee97c2f8d801a200a01893b3942f         1   \n",
      "11939  64619901c45fba79638d666058bf6be6         1   \n",
      "\n",
      "                             product_id    price  \\\n",
      "37085  35afc973633aaeb6b877ff57b2793310  5000000   \n",
      "41958  7c1bd920dbdf22470b68bde975dd3ccf  5000000   \n",
      "3976   777d2e438a1b645f3aec9bd57e92672c  5000000   \n",
      "21072  f8cfb63e323be2e1c4172f255d61843d  5000000   \n",
      "47074  2ea92fab7565c4fe9f91a5e4e1756258  5000000   \n",
      "...                                 ...      ...   \n",
      "33786  f93213a23c50edc16c27b96333f734dc   200000   \n",
      "42166  1166bc797ddf5fb009c376d133f61204   200000   \n",
      "31745  eb38a7604070a2b8465101ed53cba72b   200000   \n",
      "42452  db5efde3ad0cc579b130d71c4b2db522   200000   \n",
      "11939  06c6e01186af8b98ee1fc9e01f9471e9   200000   \n",
      "\n",
      "                              seller_id  shipping_cost  \\\n",
      "37085  4a3ca9315b744ce9f8e9374361493884         118000   \n",
      "41958  cc419e0650a3c5ba77189a1882b7556a          31000   \n",
      "3976   4a3ca9315b744ce9f8e9374361493884         101000   \n",
      "21072  4a3ca9315b744ce9f8e9374361493884         184000   \n",
      "47074  3d871de0142ce09b7081e2b9d1733cb1         196000   \n",
      "...                                 ...            ...   \n",
      "33786  46dc3b2cc0980fb8ec44634e21d2718e         141000   \n",
      "42166  5cbbd5a299cab112b7bf23862255e43e         175000   \n",
      "31745  e6a69c4a27dfdd98ffe5aa757ad744bc         112000   \n",
      "42452  4869f7a5dfa277a7dca6462dcf3b52b2          26000   \n",
      "11939  fc906263ca5083d09dce42fe02247800          98000   \n",
      "\n",
      "                            customer_id order_status purchase_date  \\\n",
      "37085  217344c7c334e16c8e76551b4b240c1d    delivered    2017-10-31   \n",
      "41958  0ef59d9bb071def3dbf7e7b055965e95    delivered    2017-11-24   \n",
      "3976   3fc0d940852ab274e532e80b1c1d5c2f    delivered    2017-03-07   \n",
      "21072  57c047e791e69bef0af220b0a165a22d    delivered    2017-07-27   \n",
      "47074  cbfdcc896d6ebc83c21fdcf4f4762efc    delivered    2017-12-04   \n",
      "...                                 ...          ...           ...   \n",
      "33786  edaad9e07395713e9f5a2124f6c846a1    delivered    2017-10-13   \n",
      "42166  24e7dc2ff8c07126358af519732b8558    delivered    2017-11-24   \n",
      "31745  2bf857ee40b763708fe19cf877cac511    delivered    2017-10-01   \n",
      "42452  54af40597a8931fea3fbb2b37656fc8d    delivered    2017-11-24   \n",
      "11939  3a1dda1ede23d7e71753e80d7f22c2c4    delivered    2017-05-21   \n",
      "\n",
      "          payment_type product_category_name  product_weight_gram  \n",
      "37085       debit card                beauty               1825.0  \n",
      "41958         e-wallet               fashion                200.0  \n",
      "3976        debit card                gadget                950.0  \n",
      "21072      credit card                beauty                550.0  \n",
      "47074  virtual account                gadget              10600.0  \n",
      "...                ...                   ...                  ...  \n",
      "33786       debit card            automotive               7550.0  \n",
      "42166         e-wallet                gadget               1100.0  \n",
      "31745         e-wallet                beauty                550.0  \n",
      "42452      credit card            automotive               6663.0  \n",
      "11939  virtual account            automotive                200.0  \n",
      "\n",
      "[49999 rows x 12 columns]\n"
     ]
    }
   ],
   "source": [
    "# Hitung harga maksimum pembelian customer\n",
    "sort_harga = order_df.sort_values(by=\"price\", ascending=False)\n",
    "print(sort_harga)"
   ]
  },
  {
   "cell_type": "code",
   "execution_count": null,
   "metadata": {},
   "outputs": [],
   "source": []
  }
 ],
 "metadata": {
  "kernelspec": {
   "display_name": "Python 3",
   "language": "python",
   "name": "python3"
  },
  "language_info": {
   "codemirror_mode": {
    "name": "ipython",
    "version": 3
   },
   "file_extension": ".py",
   "mimetype": "text/x-python",
   "name": "python",
   "nbconvert_exporter": "python",
   "pygments_lexer": "ipython3",
   "version": "3.8.3"
  }
 },
 "nbformat": 4,
 "nbformat_minor": 4
}
